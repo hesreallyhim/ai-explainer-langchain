{
 "cells": [
  {
   "cell_type": "markdown",
   "metadata": {},
   "source": [
    "# AI Dev Explainer - AI is useful\n",
    "\n",
    "This is a notebook for https://www.aiexplainer.dev/useful\n",
    "\n",
    "View all notebooks at https://github.com/chroma-core/ai_explainer"
   ]
  },
  {
   "cell_type": "markdown",
   "metadata": {},
   "source": [
    "## Get an API Key from Anthropic\n",
    "1. Create an account - https://console.anthropic.com/\n",
    "2. Create an API key - https://console.anthropic.com/settings/keys\n",
    "3. Replace `<your_api_key>` below"
   ]
  },
  {
   "cell_type": "markdown",
   "metadata": {},
   "source": [
    "## Run the code\n",
    "In Colab - you can click, \"Runtime -> \"Run All\" in the topbar\n",
    "\n",
    "In VS Code - you can click \"Run All\" in the topbar"
   ]
  },
  {
   "cell_type": "code",
   "execution_count": null,
   "metadata": {},
   "outputs": [],
   "source": [
    "# install dependencies\n",
    "%pip install anthropic python-dotenv"
   ]
  },
  {
   "cell_type": "code",
   "execution_count": null,
   "metadata": {},
   "outputs": [],
   "source": [
    "import anthropic\n",
    "from dotenv import load_dotenv\n",
    "load_dotenv()\n",
    "\n",
    "# Initialize the Anthropic client\n",
    "# Make sure your ANTHROPIC_API_KEY is set in your .env variable\n",
    "client = anthropic.Anthropic()\n",
    "MODEL_NAME = \"claude-3-haiku-20240307\"\n",
    "\n",
    "def get_completion(system_prompt: str =\"\", user_prompt: str = \"\", response_start: str =\"\"):\n",
    "    message = client.messages.create(\n",
    "        model=MODEL_NAME,\n",
    "        max_tokens=2000,\n",
    "        temperature=0.7,\n",
    "        system=system_prompt,\n",
    "        messages=[\n",
    "          {\"role\": \"user\", \"content\": user_prompt},\n",
    "          {\"role\": \"assistant\", \"content\": response_start}\n",
    "        ]\n",
    "    )\n",
    "    if message.stop_reason == \"end_turn\" and message.content[0].type == \"text\":\n",
    "      return message.content[0].text"
   ]
  },
  {
   "cell_type": "code",
   "execution_count": null,
   "metadata": {},
   "outputs": [],
   "source": [
    "# The paragraph to analyze\n",
    "paragraph = \"\"\"Now the other princes of the Achaeans slept soundly the whole night through, but Agamemnon son of Atreus was troubled, so that he could get no rest. As when fair Hera's lord flashes his lightning in token of great rain or hail or snow when the snow-flakes whiten the ground, or again as a sign that he will open the wide jaws of hungry war, even so did Agamemnon heave many a heavy sigh, for his soul trembled within him. When he looked upon the plain of Troy he marveled at the many watchfires burning in front of Ilion... - The Iliad, Scroll 10\"\"\"\n",
    "\n",
    "# Prompt for Claude\n",
    "prompt = f\"\"\"Human: List the names of people in the following paragraph, in the following format:\n",
    "<FORMAT>\n",
    "Names: <name1>, <name2>, <name3>...\n",
    "</FORMAT>\n",
    "\n",
    "<PARAGRAPH>\n",
    "{paragraph}\n",
    "</PARAGRAPH>\n",
    "\"\"\"\n",
    "\n",
    "reply =\"Names:\"\n",
    "\n",
    "response = get_completion(user_prompt=prompt, response_start=reply)\n",
    "print(response)"
   ]
  }
 ],
 "metadata": {
  "kernelspec": {
   "display_name": "venv",
   "language": "python",
   "name": "python3"
  },
  "language_info": {
   "codemirror_mode": {
    "name": "ipython",
    "version": 3
   },
   "file_extension": ".py",
   "mimetype": "text/x-python",
   "name": "python",
   "nbconvert_exporter": "python",
   "pygments_lexer": "ipython3",
   "version": "3.10.16"
  }
 },
 "nbformat": 4,
 "nbformat_minor": 2
}
